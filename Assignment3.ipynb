{
  "nbformat": 4,
  "nbformat_minor": 0,
  "metadata": {
    "colab": {
      "provenance": [],
      "authorship_tag": "ABX9TyMSvgkr6tLEGy98v5tyNKR6",
      "include_colab_link": true
    },
    "kernelspec": {
      "name": "python3",
      "display_name": "Python 3"
    },
    "language_info": {
      "name": "python"
    }
  },
  "cells": [
    {
      "cell_type": "markdown",
      "metadata": {
        "id": "view-in-github",
        "colab_type": "text"
      },
      "source": [
        "<a href=\"https://colab.research.google.com/github/Nidhi-dorid/Computer-vision-Assingment/blob/main/Assignment3.ipynb\" target=\"_parent\"><img src=\"https://colab.research.google.com/assets/colab-badge.svg\" alt=\"Open In Colab\"/></a>"
      ]
    },
    {
      "cell_type": "code",
      "source": [
        "import pandas as pd\n",
        "from sklearn.model_selection import train_test_split\n",
        "from sklearn.tree import DecisionTreeClassifier\n",
        "from sklearn.metrics import accuracy_score\n",
        "from sklearn.preprocessing import LabelEncoder\n",
        "\n",
        "# Create a DataFrame from the provided data\n",
        "df = pd.read_csv(\"/content/TEST NAIVE BAYES BUYS COMPUTER.csv\")\n",
        "\n",
        "\n",
        "le = LabelEncoder()\n",
        "df[\"age\"] = le.fit_transform(df[\"age\"])\n",
        "df[\"income\"] = le.fit_transform(df[\"income\"])\n",
        "df[\"student\"] = le.fit_transform(df[\"student\"])\n",
        "df[\"credit_rating\"] = le.fit_transform(df[\"credit_rating\"])\n",
        "\n",
        "# Split features and target variable\n",
        "X = df.drop(columns=[\"buys_computer\"])\n",
        "y = df[\"buys_computer\"]\n",
        "\n",
        "# Split the data into training and testing sets\n",
        "X_train, X_test, y_train, y_test = train_test_split(X, y, test_size=0.2, random_state=42)\n",
        "\n",
        "# Create decision tree classifier\n",
        "clf = DecisionTreeClassifier(criterion=\"entropy\")\n",
        "\n",
        "# Fit the classifier on the training data\n",
        "clf.fit(X_train, y_train)\n",
        "\n",
        "# Make predictions on the testing data\n",
        "y_pred = clf.predict(X_test)\n",
        "\n",
        "# Calculate accuracy\n",
        "accuracy = accuracy_score(y_test, y_pred)\n",
        "print(\"Accuracy:\", accuracy)\n",
        "\n",
        "\n"
      ],
      "metadata": {
        "colab": {
          "base_uri": "https://localhost:8080/"
        },
        "id": "qQOHPXLgkbSc",
        "outputId": "be0c906f-33cb-42ce-c50c-7e155f41c91e"
      },
      "execution_count": 13,
      "outputs": [
        {
          "output_type": "stream",
          "name": "stdout",
          "text": [
            "Accuracy: 0.0\n"
          ]
        }
      ]
    }
  ]
}